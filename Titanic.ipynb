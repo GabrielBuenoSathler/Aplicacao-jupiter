{
  "nbformat": 4,
  "nbformat_minor": 0,
  "metadata": {
    "colab": {
      "provenance": [],
      "authorship_tag": "ABX9TyMKwGmuh0OYxoX1G9sXdiNM",
      "include_colab_link": true
    },
    "kernelspec": {
      "name": "python3",
      "display_name": "Python 3"
    },
    "language_info": {
      "name": "python"
    }
  },
  "cells": [
    {
      "cell_type": "markdown",
      "metadata": {
        "id": "view-in-github",
        "colab_type": "text"
      },
      "source": [
        "<a href=\"https://colab.research.google.com/github/GabrielBuenoSathler/Aplicacao-jupiter/blob/main/Titanic.ipynb\" target=\"_parent\"><img src=\"https://colab.research.google.com/assets/colab-badge.svg\" alt=\"Open In Colab\"/></a>"
      ]
    },
    {
      "cell_type": "code",
      "source": [
        "import matplotlib.pyplot as plt\n",
        "import  numpy  as np\n",
        "\n",
        "import pandas as pd\n",
        "\n",
        "train_data = pd.read_csv('train.csv')\n",
        "test_data = pd.read_csv('test.csv')\n"
      ],
      "metadata": {
        "id": "5AlN0xUQdbwz"
      },
      "execution_count": 14,
      "outputs": []
    },
    {
      "cell_type": "code",
      "source": [
        "train_data.info()\n",
        "test_data.info()\n"
      ],
      "metadata": {
        "colab": {
          "base_uri": "https://localhost:8080/"
        },
        "id": "AUHfcmmBdeGZ",
        "outputId": "e1f2548b-a357-4f38-ffca-9929b9f8987e"
      },
      "execution_count": 15,
      "outputs": [
        {
          "output_type": "stream",
          "name": "stdout",
          "text": [
            "<class 'pandas.core.frame.DataFrame'>\n",
            "RangeIndex: 891 entries, 0 to 890\n",
            "Data columns (total 12 columns):\n",
            " #   Column       Non-Null Count  Dtype  \n",
            "---  ------       --------------  -----  \n",
            " 0   PassengerId  891 non-null    int64  \n",
            " 1   Survived     891 non-null    int64  \n",
            " 2   Pclass       891 non-null    int64  \n",
            " 3   Name         891 non-null    object \n",
            " 4   Sex          891 non-null    object \n",
            " 5   Age          714 non-null    float64\n",
            " 6   SibSp        891 non-null    int64  \n",
            " 7   Parch        891 non-null    int64  \n",
            " 8   Ticket       891 non-null    object \n",
            " 9   Fare         891 non-null    float64\n",
            " 10  Cabin        204 non-null    object \n",
            " 11  Embarked     889 non-null    object \n",
            "dtypes: float64(2), int64(5), object(5)\n",
            "memory usage: 83.7+ KB\n",
            "<class 'pandas.core.frame.DataFrame'>\n",
            "RangeIndex: 418 entries, 0 to 417\n",
            "Data columns (total 11 columns):\n",
            " #   Column       Non-Null Count  Dtype  \n",
            "---  ------       --------------  -----  \n",
            " 0   PassengerId  418 non-null    int64  \n",
            " 1   Pclass       418 non-null    int64  \n",
            " 2   Name         418 non-null    object \n",
            " 3   Sex          418 non-null    object \n",
            " 4   Age          332 non-null    float64\n",
            " 5   SibSp        418 non-null    int64  \n",
            " 6   Parch        418 non-null    int64  \n",
            " 7   Ticket       418 non-null    object \n",
            " 8   Fare         417 non-null    float64\n",
            " 9   Cabin        91 non-null     object \n",
            " 10  Embarked     418 non-null    object \n",
            "dtypes: float64(2), int64(4), object(5)\n",
            "memory usage: 36.1+ KB\n"
          ]
        }
      ]
    },
    {
      "cell_type": "code",
      "source": [],
      "metadata": {
        "id": "_e2ETXbpdg5F"
      },
      "execution_count": 15,
      "outputs": []
    },
    {
      "cell_type": "code",
      "source": [
        "\n",
        "import sklearn\n",
        "from sklearn import preprocessing\n",
        "from sklearn.model_selection import train_test_split\n",
        "from sklearn.metrics import accuracy_score\n",
        "\n",
        "encoder = preprocessing.LabelEncoder()\n",
        "\n",
        "\n"
      ],
      "metadata": {
        "id": "ffEZwA9rdolV"
      },
      "execution_count": 16,
      "outputs": []
    },
    {
      "cell_type": "code",
      "source": [
        "# Import necessary libraries\n",
        "import pandas as pd\n",
        "from sklearn import preprocessing\n",
        "\n",
        "# ... (your code to load and clean data) ...\n",
        "\n",
        "# Create a LabelEncoder instance\n",
        "encoder = preprocessing.LabelEncoder()\n",
        "\n",
        "# List of columns to encode\n",
        "columns_to_encode = [\"Sex\", \"Ticket\", \"Cabin\", \"Embarked\"]  # Corrected\n",
        "\n",
        "\n",
        "# Iterate over the columns and apply Label Encoding\n",
        "for column in columns_to_encode:\n",
        "    # Check if the column exists in the DataFrame before encoding\n",
        "    if column in train_data.columns:\n",
        "        train_data[column] = encoder.fit_transform(train_data[column])\n",
        "        test_data[column] = encoder.fit_transform(test_data[column])\n",
        "    else:\n",
        "        print(f\"Warning: Column '{column}' not found in the DataFrame. Skipping encoding.\")"
      ],
      "metadata": {
        "id": "XNYf3ggCdqnV"
      },
      "execution_count": 17,
      "outputs": []
    },
    {
      "cell_type": "code",
      "source": [
        "len(train_data.columns)\n",
        "\n",
        "train_data.info()\n",
        "\n",
        "\n",
        "from sklearn.model_selection import train_test_split\n",
        "\n",
        "y = train_data['Survived']\n",
        "X = train_data.drop(['Survived'],axis=1)\n"
      ],
      "metadata": {
        "colab": {
          "base_uri": "https://localhost:8080/"
        },
        "id": "f_wFqFTtd6sW",
        "outputId": "e01df3bc-571e-450e-da1f-9ea4988aed00"
      },
      "execution_count": 19,
      "outputs": [
        {
          "output_type": "stream",
          "name": "stdout",
          "text": [
            "<class 'pandas.core.frame.DataFrame'>\n",
            "RangeIndex: 891 entries, 0 to 890\n",
            "Data columns (total 12 columns):\n",
            " #   Column       Non-Null Count  Dtype  \n",
            "---  ------       --------------  -----  \n",
            " 0   PassengerId  891 non-null    int64  \n",
            " 1   Survived     891 non-null    int64  \n",
            " 2   Pclass       891 non-null    int64  \n",
            " 3   Name         891 non-null    object \n",
            " 4   Sex          891 non-null    int64  \n",
            " 5   Age          714 non-null    float64\n",
            " 6   SibSp        891 non-null    int64  \n",
            " 7   Parch        891 non-null    int64  \n",
            " 8   Ticket       891 non-null    int64  \n",
            " 9   Fare         891 non-null    float64\n",
            " 10  Cabin        891 non-null    int64  \n",
            " 11  Embarked     891 non-null    int64  \n",
            "dtypes: float64(2), int64(9), object(1)\n",
            "memory usage: 83.7+ KB\n"
          ]
        }
      ]
    },
    {
      "cell_type": "code",
      "source": [
        "train_data = train_data.fillna(0)\n",
        "test_data = test_data.fillna(0)\n"
      ],
      "metadata": {
        "id": "aKZ9rtdjd_KW"
      },
      "execution_count": 21,
      "outputs": []
    },
    {
      "cell_type": "code",
      "source": [
        "\n",
        "y_train = train_data['Survived']\n",
        "X_train = train_data.drop(['Survived'],axis=1)\n",
        "\n"
      ],
      "metadata": {
        "id": "UkFee0cEeKN3"
      },
      "execution_count": 26,
      "outputs": []
    },
    {
      "cell_type": "code",
      "source": [
        "X_train.drop(['Name'], axis=1, inplace=True)"
      ],
      "metadata": {
        "id": "w8iGxla0egrm"
      },
      "execution_count": 32,
      "outputs": []
    },
    {
      "cell_type": "code",
      "source": [
        "passenger_ids = test_data['PassengerId']\n",
        "X_test = test_data.drop(['PassengerId'], axis=1)\n",
        "\n",
        "# Treinar o modelo\n",
        "model = LogisticRegression(max_iter=1000, random_state=42)\n",
        "model.fit(X_train, y_train)\n",
        "\n",
        "# Fazer previsões no conjunto de teste\n",
        "test_predictions = model.predict(test_data)\n",
        "\n",
        "# Garantir que as previsões são 0 ou 1\n",
        "print(\"\\nValores únicos nas previsões:\", np.unique(test_predictions))\n",
        "\n",
        "# Salvar as previsões em um arquivo CSV\n",
        "output = pd.DataFrame({'PassengerId': passenger_ids, 'Survived': test_predictions})\n",
        "output.to_csv('predictions.csv', index=False)\n",
        "print(\"\\nPrevisões salvas em 'predictions.csv'.\")\n"
      ],
      "metadata": {
        "colab": {
          "base_uri": "https://localhost:8080/"
        },
        "id": "S6Nc5VZQePes",
        "outputId": "e579837c-d522-4b61-da1b-31f3c903ab97"
      },
      "execution_count": 33,
      "outputs": [
        {
          "output_type": "stream",
          "name": "stdout",
          "text": [
            "\n",
            "Valores únicos nas previsões: [0 1]\n",
            "\n",
            "Previsões salvas em 'predictions.csv'.\n"
          ]
        }
      ]
    }
  ]
}